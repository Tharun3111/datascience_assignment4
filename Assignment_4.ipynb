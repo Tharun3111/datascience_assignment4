{
  "cells": [
    {
      "cell_type": "code",
      "source": [
        "import pandas as pd\n",
        "from sklearn.model_selection import train_test_split\n",
        "from sklearn.preprocessing import StandardScaler, OneHotEncoder\n",
        "from sklearn.compose import ColumnTransformer\n",
        "from sklearn.impute import SimpleImputer\n",
        "from sklearn.pipeline import Pipeline\n"
      ],
      "metadata": {
        "id": "tL0mk-K_st5e"
      },
      "execution_count": null,
      "outputs": []
    },
    {
      "cell_type": "code",
      "source": [
        "import pandas as pd\n",
        "\n",
        "# UCI Adult Income dataset URL\n",
        "data_url = \"https://archive.ics.uci.edu/ml/machine-learning-databases/adult/adult.data\"\n",
        "\n",
        "# Define column names for the dataset\n",
        "column_names = [\"age\", \"workclass\", \"fnlwgt\", \"education\", \"education_num\",\n",
        "                \"marital_status\", \"occupation\", \"relationship\", \"race\", \"sex\",\n",
        "                \"capital_gain\", \"capital_loss\", \"hours_per_week\", \"native_country\", \"income\"]\n",
        "\n",
        "# Load dataset\n",
        "data = pd.read_csv(data_url, names=column_names, na_values=\" ?\", skipinitialspace=True)\n",
        "print(\"Initial Data:\")\n",
        "print(data.head())\n"
      ],
      "metadata": {
        "colab": {
          "base_uri": "https://localhost:8080/"
        },
        "id": "3t-PmzdcsvKz",
        "outputId": "8cd5afa8-f7ac-45d7-ed3c-f0998f6cbeb7"
      },
      "execution_count": null,
      "outputs": [
        {
          "output_type": "stream",
          "name": "stdout",
          "text": [
            "Initial Data:\n",
            "   age         workclass  fnlwgt  education  education_num  \\\n",
            "0   39         State-gov   77516  Bachelors             13   \n",
            "1   50  Self-emp-not-inc   83311  Bachelors             13   \n",
            "2   38           Private  215646    HS-grad              9   \n",
            "3   53           Private  234721       11th              7   \n",
            "4   28           Private  338409  Bachelors             13   \n",
            "\n",
            "       marital_status         occupation   relationship   race     sex  \\\n",
            "0       Never-married       Adm-clerical  Not-in-family  White    Male   \n",
            "1  Married-civ-spouse    Exec-managerial        Husband  White    Male   \n",
            "2            Divorced  Handlers-cleaners  Not-in-family  White    Male   \n",
            "3  Married-civ-spouse  Handlers-cleaners        Husband  Black    Male   \n",
            "4  Married-civ-spouse     Prof-specialty           Wife  Black  Female   \n",
            "\n",
            "   capital_gain  capital_loss  hours_per_week native_country income  \n",
            "0          2174             0              40  United-States  <=50K  \n",
            "1             0             0              13  United-States  <=50K  \n",
            "2             0             0              40  United-States  <=50K  \n",
            "3             0             0              40  United-States  <=50K  \n",
            "4             0             0              40           Cuba  <=50K  \n"
          ]
        }
      ]
    },
    {
      "cell_type": "code",
      "source": [
        "print(\"\\nMissing Values Before Imputation:\")\n",
        "print(data.isnull().sum())\n",
        "\n",
        "# Dropping rows with missing values\n",
        "data.dropna(inplace=True)\n",
        "\n",
        "print(\"\\nMissing Values After Dropping Rows:\")\n",
        "print(data.isnull().sum())\n"
      ],
      "metadata": {
        "colab": {
          "base_uri": "https://localhost:8080/"
        },
        "id": "06zpqC2esysC",
        "outputId": "43ca9a46-6b43-4d9a-c89f-632fb99e486b"
      },
      "execution_count": null,
      "outputs": [
        {
          "output_type": "stream",
          "name": "stdout",
          "text": [
            "\n",
            "Missing Values Before Imputation:\n",
            "age               0\n",
            "workclass         0\n",
            "fnlwgt            0\n",
            "education         0\n",
            "education_num     0\n",
            "marital_status    0\n",
            "occupation        0\n",
            "relationship      0\n",
            "race              0\n",
            "sex               0\n",
            "capital_gain      0\n",
            "capital_loss      0\n",
            "hours_per_week    0\n",
            "native_country    0\n",
            "income            0\n",
            "dtype: int64\n",
            "\n",
            "Missing Values After Dropping Rows:\n",
            "age               0\n",
            "workclass         0\n",
            "fnlwgt            0\n",
            "education         0\n",
            "education_num     0\n",
            "marital_status    0\n",
            "occupation        0\n",
            "relationship      0\n",
            "race              0\n",
            "sex               0\n",
            "capital_gain      0\n",
            "capital_loss      0\n",
            "hours_per_week    0\n",
            "native_country    0\n",
            "income            0\n",
            "dtype: int64\n"
          ]
        }
      ]
    },
    {
      "cell_type": "code",
      "source": [
        "categorical_cols = data.select_dtypes(include=['object']).columns\n",
        "\n",
        "data = pd.get_dummies(data, columns=categorical_cols, drop_first=True)\n",
        "\n",
        "print(\"\\nData After Encoding Categorical Variables:\")\n",
        "print(data.head())\n"
      ],
      "metadata": {
        "colab": {
          "base_uri": "https://localhost:8080/"
        },
        "id": "M9EoBjGqs83n",
        "outputId": "890f1268-70e9-4b57-9749-91cf59f814b3"
      },
      "execution_count": null,
      "outputs": [
        {
          "output_type": "stream",
          "name": "stdout",
          "text": [
            "\n",
            "Data After Encoding Categorical Variables:\n",
            "   age  fnlwgt  education_num  capital_gain  capital_loss  hours_per_week  \\\n",
            "0   39   77516             13          2174             0              40   \n",
            "1   50   83311             13             0             0              13   \n",
            "2   38  215646              9             0             0              40   \n",
            "3   53  234721              7             0             0              40   \n",
            "4   28  338409             13             0             0              40   \n",
            "\n",
            "   workclass_Federal-gov  workclass_Local-gov  workclass_Never-worked  \\\n",
            "0                      0                    0                       0   \n",
            "1                      0                    0                       0   \n",
            "2                      0                    0                       0   \n",
            "3                      0                    0                       0   \n",
            "4                      0                    0                       0   \n",
            "\n",
            "   workclass_Private  ...  native_country_Puerto-Rico  \\\n",
            "0                  0  ...                           0   \n",
            "1                  0  ...                           0   \n",
            "2                  1  ...                           0   \n",
            "3                  1  ...                           0   \n",
            "4                  1  ...                           0   \n",
            "\n",
            "   native_country_Scotland  native_country_South  native_country_Taiwan  \\\n",
            "0                        0                     0                      0   \n",
            "1                        0                     0                      0   \n",
            "2                        0                     0                      0   \n",
            "3                        0                     0                      0   \n",
            "4                        0                     0                      0   \n",
            "\n",
            "   native_country_Thailand  native_country_Trinadad&Tobago  \\\n",
            "0                        0                               0   \n",
            "1                        0                               0   \n",
            "2                        0                               0   \n",
            "3                        0                               0   \n",
            "4                        0                               0   \n",
            "\n",
            "   native_country_United-States  native_country_Vietnam  \\\n",
            "0                             1                       0   \n",
            "1                             1                       0   \n",
            "2                             1                       0   \n",
            "3                             1                       0   \n",
            "4                             0                       0   \n",
            "\n",
            "   native_country_Yugoslavia  income_>50K  \n",
            "0                          0            0  \n",
            "1                          0            0  \n",
            "2                          0            0  \n",
            "3                          0            0  \n",
            "4                          0            0  \n",
            "\n",
            "[5 rows x 101 columns]\n"
          ]
        }
      ]
    },
    {
      "cell_type": "code",
      "source": [
        "from sklearn.preprocessing import StandardScaler\n",
        "\n",
        "numerical_cols = data.select_dtypes(include=['int64', 'float64']).columns\n",
        "\n",
        "scaler = StandardScaler()\n",
        "data[numerical_cols] = scaler.fit_transform(data[numerical_cols])\n",
        "\n",
        "print(\"\\nData After Standardization:\")\n",
        "print(data[numerical_cols].head())\n"
      ],
      "metadata": {
        "colab": {
          "base_uri": "https://localhost:8080/"
        },
        "id": "FGOJF9KhtBxc",
        "outputId": "d8514a45-f294-4915-a692-248c8c6422d0"
      },
      "execution_count": null,
      "outputs": [
        {
          "output_type": "stream",
          "name": "stdout",
          "text": [
            "\n",
            "Data After Standardization:\n",
            "        age    fnlwgt  education_num  capital_gain  capital_loss  \\\n",
            "0  0.030671 -1.063611       1.134739      0.148453      -0.21666   \n",
            "1  0.837109 -1.008707       1.134739     -0.145920      -0.21666   \n",
            "2 -0.042642  0.245079      -0.420060     -0.145920      -0.21666   \n",
            "3  1.057047  0.425801      -1.197459     -0.145920      -0.21666   \n",
            "4 -0.775768  1.408176       1.134739     -0.145920      -0.21666   \n",
            "\n",
            "   hours_per_week  \n",
            "0       -0.035429  \n",
            "1       -2.222153  \n",
            "2       -0.035429  \n",
            "3       -0.035429  \n",
            "4       -0.035429  \n"
          ]
        }
      ]
    },
    {
      "cell_type": "code",
      "source": [
        "# Print the column names after encoding\n",
        "print(data.columns)\n"
      ],
      "metadata": {
        "colab": {
          "base_uri": "https://localhost:8080/"
        },
        "id": "EodziN6_tgn_",
        "outputId": "a6714dfe-aa11-4ecb-dbd8-cebd2631f065"
      },
      "execution_count": null,
      "outputs": [
        {
          "output_type": "stream",
          "name": "stdout",
          "text": [
            "Index(['age', 'fnlwgt', 'education_num', 'capital_gain', 'capital_loss',\n",
            "       'hours_per_week', 'workclass_Federal-gov', 'workclass_Local-gov',\n",
            "       'workclass_Never-worked', 'workclass_Private',\n",
            "       ...\n",
            "       'native_country_Puerto-Rico', 'native_country_Scotland',\n",
            "       'native_country_South', 'native_country_Taiwan',\n",
            "       'native_country_Thailand', 'native_country_Trinadad&Tobago',\n",
            "       'native_country_United-States', 'native_country_Vietnam',\n",
            "       'native_country_Yugoslavia', 'income_>50K'],\n",
            "      dtype='object', length=101)\n"
          ]
        }
      ]
    },
    {
      "cell_type": "code",
      "source": [
        "from sklearn.model_selection import train_test_split\n",
        "\n",
        "X = data.drop('income_>50K', axis=1)\n",
        "y = data['income_>50K']\n",
        "\n",
        "X_train, X_test, y_train, y_test = train_test_split(X, y, test_size=0.2, random_state=42)\n",
        "\n",
        "print(\"\\nTraining Data Sample:\")\n",
        "print(X_train.head())\n",
        "print(\"\\nTest Data Sample:\")\n",
        "print(X_test.head())\n"
      ],
      "metadata": {
        "colab": {
          "base_uri": "https://localhost:8080/"
        },
        "id": "kHwhyzcGtRMe",
        "outputId": "3d42f676-7f09-47d9-9321-14bb06007d98"
      },
      "execution_count": null,
      "outputs": [
        {
          "output_type": "stream",
          "name": "stdout",
          "text": [
            "\n",
            "Training Data Sample:\n",
            "            age    fnlwgt  education_num  capital_gain  capital_loss  \\\n",
            "5514  -0.409205  0.079628       1.134739      -0.14592     -0.216660   \n",
            "19777 -0.189267 -0.978882       0.357340      -0.14592      4.466257   \n",
            "10781  1.423610  0.125636      -1.974858      -0.14592     -0.216660   \n",
            "32240 -1.288956 -0.090843       0.357340      -0.14592     -0.216660   \n",
            "9876  -0.849080  0.853577      -0.031360      -0.14592     -0.216660   \n",
            "\n",
            "       hours_per_week  workclass_Federal-gov  workclass_Local-gov  \\\n",
            "5514         0.774468                      0                    1   \n",
            "19777        0.774468                      0                    0   \n",
            "10781       -0.035429                      0                    0   \n",
            "32240        0.450509                      0                    0   \n",
            "9876        -0.035429                      0                    0   \n",
            "\n",
            "       workclass_Never-worked  workclass_Private  ...  \\\n",
            "5514                        0                  0  ...   \n",
            "19777                       0                  1  ...   \n",
            "10781                       0                  0  ...   \n",
            "32240                       0                  1  ...   \n",
            "9876                        0                  1  ...   \n",
            "\n",
            "       native_country_Portugal  native_country_Puerto-Rico  \\\n",
            "5514                         0                           0   \n",
            "19777                        0                           0   \n",
            "10781                        0                           0   \n",
            "32240                        0                           0   \n",
            "9876                         0                           0   \n",
            "\n",
            "       native_country_Scotland  native_country_South  native_country_Taiwan  \\\n",
            "5514                         0                     0                      0   \n",
            "19777                        0                     0                      0   \n",
            "10781                        0                     0                      0   \n",
            "32240                        0                     0                      0   \n",
            "9876                         0                     0                      0   \n",
            "\n",
            "       native_country_Thailand  native_country_Trinadad&Tobago  \\\n",
            "5514                         0                               0   \n",
            "19777                        0                               0   \n",
            "10781                        0                               0   \n",
            "32240                        0                               0   \n",
            "9876                         0                               0   \n",
            "\n",
            "       native_country_United-States  native_country_Vietnam  \\\n",
            "5514                              1                       0   \n",
            "19777                             1                       0   \n",
            "10781                             1                       0   \n",
            "32240                             1                       0   \n",
            "9876                              1                       0   \n",
            "\n",
            "       native_country_Yugoslavia  \n",
            "5514                           0  \n",
            "19777                          0  \n",
            "10781                          0  \n",
            "32240                          0  \n",
            "9876                           0  \n",
            "\n",
            "[5 rows x 100 columns]\n",
            "\n",
            "Test Data Sample:\n",
            "            age    fnlwgt  education_num  capital_gain  capital_loss  \\\n",
            "14160 -0.849080 -0.280444      -0.031360     -0.145920      -0.21666   \n",
            "27048  0.470546 -1.318934      -0.420060     -0.145920      -0.21666   \n",
            "28868 -0.702455 -0.036669       1.134739     -0.145920      -0.21666   \n",
            "5667  -0.629143  0.002479       1.134739     -0.145920      -0.21666   \n",
            "7827  -0.702455 -0.004096      -0.031360      0.152244      -0.21666   \n",
            "\n",
            "       hours_per_week  workclass_Federal-gov  workclass_Local-gov  \\\n",
            "14160       -0.197409                      0                    0   \n",
            "27048       -0.035429                      0                    0   \n",
            "28868        1.179417                      0                    0   \n",
            "5667        -0.035429                      0                    0   \n",
            "7827         0.774468                      0                    0   \n",
            "\n",
            "       workclass_Never-worked  workclass_Private  ...  \\\n",
            "14160                       0                  1  ...   \n",
            "27048                       0                  0  ...   \n",
            "28868                       0                  1  ...   \n",
            "5667                        0                  1  ...   \n",
            "7827                        0                  0  ...   \n",
            "\n",
            "       native_country_Portugal  native_country_Puerto-Rico  \\\n",
            "14160                        0                           0   \n",
            "27048                        0                           0   \n",
            "28868                        0                           0   \n",
            "5667                         0                           0   \n",
            "7827                         0                           0   \n",
            "\n",
            "       native_country_Scotland  native_country_South  native_country_Taiwan  \\\n",
            "14160                        0                     0                      0   \n",
            "27048                        0                     0                      0   \n",
            "28868                        0                     0                      0   \n",
            "5667                         0                     0                      0   \n",
            "7827                         0                     0                      0   \n",
            "\n",
            "       native_country_Thailand  native_country_Trinadad&Tobago  \\\n",
            "14160                        0                               0   \n",
            "27048                        0                               0   \n",
            "28868                        0                               0   \n",
            "5667                         0                               0   \n",
            "7827                         0                               0   \n",
            "\n",
            "       native_country_United-States  native_country_Vietnam  \\\n",
            "14160                             1                       0   \n",
            "27048                             1                       0   \n",
            "28868                             1                       0   \n",
            "5667                              1                       0   \n",
            "7827                              1                       0   \n",
            "\n",
            "       native_country_Yugoslavia  \n",
            "14160                          0  \n",
            "27048                          0  \n",
            "28868                          0  \n",
            "5667                           0  \n",
            "7827                           0  \n",
            "\n",
            "[5 rows x 100 columns]\n"
          ]
        }
      ]
    },
    {
      "cell_type": "code",
      "source": [
        "print(data.head())"
      ],
      "metadata": {
        "colab": {
          "base_uri": "https://localhost:8080/"
        },
        "id": "2ItAZGe3saWm",
        "outputId": "d79dfc9f-376a-47ce-c92d-d521b9ab484f"
      },
      "execution_count": null,
      "outputs": [
        {
          "output_type": "stream",
          "name": "stdout",
          "text": [
            "        age    fnlwgt  education_num  capital_gain  capital_loss  \\\n",
            "0  0.030671 -1.063611       1.134739      0.148453      -0.21666   \n",
            "1  0.837109 -1.008707       1.134739     -0.145920      -0.21666   \n",
            "2 -0.042642  0.245079      -0.420060     -0.145920      -0.21666   \n",
            "3  1.057047  0.425801      -1.197459     -0.145920      -0.21666   \n",
            "4 -0.775768  1.408176       1.134739     -0.145920      -0.21666   \n",
            "\n",
            "   hours_per_week  workclass_Federal-gov  workclass_Local-gov  \\\n",
            "0       -0.035429                      0                    0   \n",
            "1       -2.222153                      0                    0   \n",
            "2       -0.035429                      0                    0   \n",
            "3       -0.035429                      0                    0   \n",
            "4       -0.035429                      0                    0   \n",
            "\n",
            "   workclass_Never-worked  workclass_Private  ...  native_country_Puerto-Rico  \\\n",
            "0                       0                  0  ...                           0   \n",
            "1                       0                  0  ...                           0   \n",
            "2                       0                  1  ...                           0   \n",
            "3                       0                  1  ...                           0   \n",
            "4                       0                  1  ...                           0   \n",
            "\n",
            "   native_country_Scotland  native_country_South  native_country_Taiwan  \\\n",
            "0                        0                     0                      0   \n",
            "1                        0                     0                      0   \n",
            "2                        0                     0                      0   \n",
            "3                        0                     0                      0   \n",
            "4                        0                     0                      0   \n",
            "\n",
            "   native_country_Thailand  native_country_Trinadad&Tobago  \\\n",
            "0                        0                               0   \n",
            "1                        0                               0   \n",
            "2                        0                               0   \n",
            "3                        0                               0   \n",
            "4                        0                               0   \n",
            "\n",
            "   native_country_United-States  native_country_Vietnam  \\\n",
            "0                             1                       0   \n",
            "1                             1                       0   \n",
            "2                             1                       0   \n",
            "3                             1                       0   \n",
            "4                             0                       0   \n",
            "\n",
            "   native_country_Yugoslavia  income_>50K  \n",
            "0                          0            0  \n",
            "1                          0            0  \n",
            "2                          0            0  \n",
            "3                          0            0  \n",
            "4                          0            0  \n",
            "\n",
            "[5 rows x 101 columns]\n"
          ]
        }
      ]
    },
    {
      "cell_type": "code",
      "source": [
        "# Check for missing values\n",
        "missing_values = data.isnull().sum()\n",
        "print(missing_values[missing_values > 0])\n"
      ],
      "metadata": {
        "colab": {
          "base_uri": "https://localhost:8080/"
        },
        "id": "pwnCwq9nmg1-",
        "outputId": "38c4314b-495e-4ba1-d5e8-51193c0318ba"
      },
      "execution_count": null,
      "outputs": [
        {
          "output_type": "stream",
          "name": "stdout",
          "text": [
            "Series([], dtype: int64)\n"
          ]
        }
      ]
    },
    {
      "cell_type": "code",
      "source": [
        "print(data.columns)\n"
      ],
      "metadata": {
        "colab": {
          "base_uri": "https://localhost:8080/"
        },
        "id": "9FHMvQCYm6Oo",
        "outputId": "c91be7b9-ec86-4fbb-8781-248efbe15b9f"
      },
      "execution_count": null,
      "outputs": [
        {
          "output_type": "stream",
          "name": "stdout",
          "text": [
            "Index(['age', 'fnlwgt', 'education_num', 'capital_gain', 'capital_loss',\n",
            "       'hours_per_week', 'workclass_Federal-gov', 'workclass_Local-gov',\n",
            "       'workclass_Never-worked', 'workclass_Private',\n",
            "       ...\n",
            "       'native_country_Puerto-Rico', 'native_country_Scotland',\n",
            "       'native_country_South', 'native_country_Taiwan',\n",
            "       'native_country_Thailand', 'native_country_Trinadad&Tobago',\n",
            "       'native_country_United-States', 'native_country_Vietnam',\n",
            "       'native_country_Yugoslavia', 'income_>50K'],\n",
            "      dtype='object', length=101)\n"
          ]
        }
      ]
    },
    {
      "cell_type": "code",
      "source": [
        "# Impute missing values in 'Age'\n",
        "data['age'].fillna(data['age'].median(), inplace=True)\n"
      ],
      "metadata": {
        "id": "ua9Mz8Uymoll"
      },
      "execution_count": null,
      "outputs": []
    },
    {
      "cell_type": "code",
      "source": [
        "print(data['age'].fillna(data['age'].median(), inplace=True))"
      ],
      "metadata": {
        "colab": {
          "base_uri": "https://localhost:8080/"
        },
        "id": "ZLFpQ-XqnELr",
        "outputId": "a50fc441-2c0c-4ffa-8d35-cfddd92b9a70"
      },
      "execution_count": null,
      "outputs": [
        {
          "output_type": "stream",
          "name": "stdout",
          "text": [
            "None\n"
          ]
        }
      ]
    },
    {
      "cell_type": "code",
      "execution_count": null,
      "metadata": {
        "colab": {
          "base_uri": "https://localhost:8080/"
        },
        "id": "9LcBUVdItyS5",
        "outputId": "620124ee-df76-4969-a166-3021b96373fd"
      },
      "outputs": [
        {
          "output_type": "stream",
          "name": "stdout",
          "text": [
            "Collecting tpot\n",
            "  Downloading TPOT-0.12.1-py3-none-any.whl (87 kB)\n",
            "\u001b[?25l     \u001b[90m━━━━━━━━━━━━━━━━━━━━━━━━━━━━━━━━━━━━━━━━\u001b[0m \u001b[32m0.0/87.4 kB\u001b[0m \u001b[31m?\u001b[0m eta \u001b[36m-:--:--\u001b[0m\r\u001b[2K     \u001b[91m━━━━━━━━━━━━━━━━━━━━━━━━━━━━━━━━━━━━━\u001b[0m\u001b[91m╸\u001b[0m\u001b[90m━━\u001b[0m \u001b[32m81.9/87.4 kB\u001b[0m \u001b[31m2.4 MB/s\u001b[0m eta \u001b[36m0:00:01\u001b[0m\r\u001b[2K     \u001b[90m━━━━━━━━━━━━━━━━━━━━━━━━━━━━━━━━━━━━━━━━\u001b[0m \u001b[32m87.4/87.4 kB\u001b[0m \u001b[31m2.0 MB/s\u001b[0m eta \u001b[36m0:00:00\u001b[0m\n",
            "\u001b[?25hRequirement already satisfied: numpy>=1.16.3 in /usr/local/lib/python3.10/dist-packages (from tpot) (1.23.5)\n",
            "Requirement already satisfied: scipy>=1.3.1 in /usr/local/lib/python3.10/dist-packages (from tpot) (1.11.3)\n",
            "Requirement already satisfied: scikit-learn>=0.22.0 in /usr/local/lib/python3.10/dist-packages (from tpot) (1.2.2)\n",
            "Collecting deap>=1.2 (from tpot)\n",
            "  Downloading deap-1.4.1-cp310-cp310-manylinux_2_5_x86_64.manylinux1_x86_64.manylinux_2_17_x86_64.manylinux2014_x86_64.whl (135 kB)\n",
            "\u001b[2K     \u001b[90m━━━━━━━━━━━━━━━━━━━━━━━━━━━━━━━━━━━━━━━━\u001b[0m \u001b[32m135.4/135.4 kB\u001b[0m \u001b[31m7.6 MB/s\u001b[0m eta \u001b[36m0:00:00\u001b[0m\n",
            "\u001b[?25hCollecting update-checker>=0.16 (from tpot)\n",
            "  Downloading update_checker-0.18.0-py3-none-any.whl (7.0 kB)\n",
            "Requirement already satisfied: tqdm>=4.36.1 in /usr/local/lib/python3.10/dist-packages (from tpot) (4.66.1)\n",
            "Collecting stopit>=1.1.1 (from tpot)\n",
            "  Downloading stopit-1.1.2.tar.gz (18 kB)\n",
            "  Preparing metadata (setup.py) ... \u001b[?25l\u001b[?25hdone\n",
            "Requirement already satisfied: pandas>=0.24.2 in /usr/local/lib/python3.10/dist-packages (from tpot) (1.5.3)\n",
            "Requirement already satisfied: joblib>=0.13.2 in /usr/local/lib/python3.10/dist-packages (from tpot) (1.3.2)\n",
            "Requirement already satisfied: xgboost>=1.1.0 in /usr/local/lib/python3.10/dist-packages (from tpot) (2.0.1)\n",
            "Requirement already satisfied: python-dateutil>=2.8.1 in /usr/local/lib/python3.10/dist-packages (from pandas>=0.24.2->tpot) (2.8.2)\n",
            "Requirement already satisfied: pytz>=2020.1 in /usr/local/lib/python3.10/dist-packages (from pandas>=0.24.2->tpot) (2023.3.post1)\n",
            "Requirement already satisfied: threadpoolctl>=2.0.0 in /usr/local/lib/python3.10/dist-packages (from scikit-learn>=0.22.0->tpot) (3.2.0)\n",
            "Requirement already satisfied: requests>=2.3.0 in /usr/local/lib/python3.10/dist-packages (from update-checker>=0.16->tpot) (2.31.0)\n",
            "Requirement already satisfied: six>=1.5 in /usr/local/lib/python3.10/dist-packages (from python-dateutil>=2.8.1->pandas>=0.24.2->tpot) (1.16.0)\n",
            "Requirement already satisfied: charset-normalizer<4,>=2 in /usr/local/lib/python3.10/dist-packages (from requests>=2.3.0->update-checker>=0.16->tpot) (3.3.2)\n",
            "Requirement already satisfied: idna<4,>=2.5 in /usr/local/lib/python3.10/dist-packages (from requests>=2.3.0->update-checker>=0.16->tpot) (3.4)\n",
            "Requirement already satisfied: urllib3<3,>=1.21.1 in /usr/local/lib/python3.10/dist-packages (from requests>=2.3.0->update-checker>=0.16->tpot) (2.0.7)\n",
            "Requirement already satisfied: certifi>=2017.4.17 in /usr/local/lib/python3.10/dist-packages (from requests>=2.3.0->update-checker>=0.16->tpot) (2023.7.22)\n",
            "Building wheels for collected packages: stopit\n",
            "  Building wheel for stopit (setup.py) ... \u001b[?25l\u001b[?25hdone\n",
            "  Created wheel for stopit: filename=stopit-1.1.2-py3-none-any.whl size=11938 sha256=0b8501b643b6595dc95cf66ee825fc37d0c58f5dba1ff7c6fa459e773ce8701b\n",
            "  Stored in directory: /root/.cache/pip/wheels/af/f9/87/bf5b3d565c2a007b4dae9d8142dccc85a9f164e517062dd519\n",
            "Successfully built stopit\n",
            "Installing collected packages: stopit, deap, update-checker, tpot\n",
            "Successfully installed deap-1.4.1 stopit-1.1.2 tpot-0.12.1 update-checker-0.18.0\n"
          ]
        }
      ],
      "source": [
        "pip install tpot\n"
      ]
    },
    {
      "cell_type": "code",
      "execution_count": null,
      "metadata": {
        "colab": {
          "base_uri": "https://localhost:8080/",
          "height": 243,
          "referenced_widgets": [
            "44249c7f95c84c108d7a475b6890a832",
            "150e72b2cdd74e9fae1fcd69356bf12f",
            "3619119ee2d34c8bbe0e9c7a5af1cc02",
            "50e9ba8289854fde9f907afeaf4d12c4",
            "d73c64c66bd14cb5b49b4ff25ed9d24c",
            "876d676443d9419a80a8bcc748bf9a47",
            "b86c173124784a7d8748109f447361c9",
            "4f7a368bc2044165a1e7d94fe957ab9b",
            "d5846f5aad9d47dfb7a0050f7b427dff",
            "327391760e4341a5af8fc3155ca08a8c",
            "977be74ac9f64978af3990a013c3fa85"
          ]
        },
        "id": "ctT0qhA-tlVZ",
        "outputId": "9fc797d3-58e2-446f-bb6c-8a2e202f85de"
      },
      "outputs": [
        {
          "output_type": "display_data",
          "data": {
            "text/plain": [
              "Optimization Progress:   0%|          | 0/300 [00:00<?, ?pipeline/s]"
            ],
            "application/vnd.jupyter.widget-view+json": {
              "version_major": 2,
              "version_minor": 0,
              "model_id": "44249c7f95c84c108d7a475b6890a832"
            }
          },
          "metadata": {}
        },
        {
          "output_type": "stream",
          "name": "stdout",
          "text": [
            "\n",
            "Generation 1 - Current best internal CV score: 0.8670916091262392\n",
            "\n",
            "Generation 2 - Current best internal CV score: 0.8702782243488956\n",
            "\n",
            "Generation 3 - Current best internal CV score: 0.8702782243488956\n",
            "\n",
            "Generation 4 - Current best internal CV score: 0.8702782243488956\n",
            "\n",
            "Generation 5 - Current best internal CV score: 0.8702782243488956\n",
            "\n",
            "Best pipeline: XGBClassifier(input_matrix, learning_rate=1.0, max_depth=2, min_child_weight=6, n_estimators=100, n_jobs=1, subsample=1.0, verbosity=0)\n",
            "0.8771687394441885\n"
          ]
        }
      ],
      "source": [
        "from tpot import TPOTClassifier\n",
        "\n",
        "tpot = TPOTClassifier(\n",
        "    generations=5,\n",
        "    population_size=50,\n",
        "    verbosity=2,\n",
        "    random_state=42,\n",
        "    config_dict='TPOT sparse'  # Use the TPOT configuration for sparse matrices\n",
        ")\n",
        "\n",
        "tpot.fit(X_train, y_train)\n",
        "\n",
        "\n",
        "# Score the model\n",
        "print(tpot.score(X_test, y_test))\n",
        "\n",
        "# Export the pipeline\n",
        "tpot.export('tpot_adult_income_pipeline.py')\n"
      ]
    },
    {
      "cell_type": "code",
      "source": [
        "from sklearn.metrics import accuracy_score, f1_score, mean_squared_error\n",
        "import numpy as np\n",
        "\n",
        "# Predictions on the test set\n",
        "predictions = tpot.predict(X_test)\n",
        "\n",
        "# Calculate evaluation metrics\n",
        "accuracy = accuracy_score(y_test, predictions)\n",
        "f1 = f1_score(y_test, predictions)\n",
        "rmse = np.sqrt(mean_squared_error(y_test, predictions))\n",
        "\n",
        "print(f\"Accuracy: {accuracy}\")\n",
        "print(f\"F1 Score: {f1}\")\n",
        "print(f\"RMSE: {rmse}\")\n"
      ],
      "metadata": {
        "colab": {
          "base_uri": "https://localhost:8080/"
        },
        "id": "onzZxCJ3xL3h",
        "outputId": "066cf370-774f-45a6-d735-230450dcfd97"
      },
      "execution_count": null,
      "outputs": [
        {
          "output_type": "stream",
          "name": "stdout",
          "text": [
            "Accuracy: 0.8771687394441885\n",
            "F1 Score: 0.7267759562841531\n",
            "RMSE: 0.3504729098743745\n"
          ]
        }
      ]
    },
    {
      "cell_type": "code",
      "execution_count": null,
      "metadata": {
        "colab": {
          "base_uri": "https://localhost:8080/"
        },
        "id": "tggRuj4llrc_",
        "outputId": "2508faa2-9d09-488b-f2c6-1a9f3a07228d"
      },
      "outputs": [
        {
          "output_type": "stream",
          "name": "stdout",
          "text": [
            "Fitting 5 folds for each of 18 candidates, totalling 90 fits\n",
            "Best parameters: {'max_depth': 20, 'min_samples_split': 10, 'n_estimators': 100}\n",
            "Accuracy score (traditional ML): 0.866421004145555\n"
          ]
        }
      ],
      "source": [
        "from sklearn.ensemble import RandomForestClassifier\n",
        "from sklearn.model_selection import GridSearchCV\n",
        "\n",
        "# Initialize the classifier\n",
        "rf_classifier = RandomForestClassifier(random_state=42)\n",
        "\n",
        "# Create a dictionary of hyperparameters to search\n",
        "param_grid = {\n",
        "    'n_estimators': [100, 200],\n",
        "    'max_depth': [10, 20, 30],\n",
        "    'min_samples_split': [2, 5, 10]\n",
        "}\n",
        "\n",
        "# Setup GridSearchCV\n",
        "grid_search = GridSearchCV(rf_classifier, param_grid, cv=5, n_jobs=-1, verbose=1)\n",
        "\n",
        "# Fit GridSearchCV to the training data\n",
        "grid_search.fit(X_train, y_train)\n",
        "\n",
        "\n",
        "# Best parameter set\n",
        "print('Best parameters:', grid_search.best_params_)\n",
        "\n",
        "# Evaluate on the test data\n",
        "print(\"Accuracy score (traditional ML):\", grid_search.score(X_test, y_test))\n"
      ]
    },
    {
      "cell_type": "code",
      "source": [
        "from sklearn.metrics import accuracy_score, f1_score, precision_score, recall_score, roc_auc_score\n",
        "\n",
        "# Predictions from both models\n",
        "predictions= tpot.predict(X_test)\n",
        "predictions_traditional = grid_search.predict(X_test)\n",
        "\n",
        "# Calculate metrics\n",
        "def calculate_metrics(y_true, y_pred):\n",
        "    accuracy = accuracy_score(y_true, y_pred)\n",
        "    f1 = f1_score(y_true, y_pred)\n",
        "    precision = precision_score(y_true, y_pred)\n",
        "    recall = recall_score(y_true, y_pred)\n",
        "    roc_auc = roc_auc_score(y_true, y_pred)\n",
        "    return accuracy, f1, precision, recall, roc_auc\n",
        "\n",
        "metrics_automl = calculate_metrics(y_test, predictions)\n",
        "metrics_traditional = calculate_metrics(y_test, predictions_traditional)\n",
        "\n",
        "print(\"TPOT Metrics: Accuracy, F1, Precision, Recall, ROC-AUC\")\n",
        "print(metrics_automl)\n",
        "\n",
        "print(\"\\nTraditional ML Metrics: Accuracy, F1, Precision, Recall, ROC-AUC\")\n",
        "print(metrics_traditional)\n"
      ],
      "metadata": {
        "colab": {
          "base_uri": "https://localhost:8080/"
        },
        "id": "ezB6FiNLmW6m",
        "outputId": "fa626e99-f142-40de-8a17-1609a0037d0b"
      },
      "execution_count": null,
      "outputs": [
        {
          "output_type": "stream",
          "name": "stdout",
          "text": [
            "TPOT Metrics: Accuracy, F1, Precision, Recall, ROC-AUC\n",
            "(0.8771687394441885, 0.7267759562841531, 0.7840825350036846, 0.6772756206238065, 0.8089939414329068)\n",
            "\n",
            "Traditional ML Metrics: Accuracy, F1, Precision, Recall, ROC-AUC\n",
            "(0.866421004145555, 0.6847826086956521, 0.7947855340622372, 0.6015276893698281, 0.7760774828880708)\n"
          ]
        }
      ]
    },
    {
      "cell_type": "code",
      "source": [
        "import numpy as np\n",
        "import matplotlib.pyplot as plt\n",
        "import matplotlib.style as style\n",
        "\n",
        "# Define the metrics and their values for TPOT and Traditional ML\n",
        "metrics = ['Accuracy', 'F1', 'Precision', 'Recall', 'ROC-AUC']\n",
        "tpot_values = [0.8771687394441885, 0.7267759562841531, 0.7840825350036846, 0.6772756206238065, 0.8089939414329068]\n",
        "traditional_ml_values = [0.866421004145555, 0.6847826086956521, 0.7947855340622372, 0.6015276893698281, 0.7760774828880708]\n",
        "\n",
        "# Set the width of the bars\n",
        "bar_width = 0.35\n",
        "\n",
        "# Set the positions of the bars on the x-axis\n",
        "r1 = np.arange(len(metrics))\n",
        "r2 = [x + bar_width for x in r1]\n",
        "\n",
        "# Set the style\n",
        "style.use('ggplot')\n",
        "\n",
        "# Create the figure and the axes\n",
        "plt.figure(figsize=(10, 6))\n",
        "\n",
        "# Plot the bars\n",
        "plt.bar(r1, tpot_values, color='darkcyan', width=bar_width, edgecolor='white', label='TPOT')\n",
        "plt.bar(r2, traditional_ml_values, color='salmon', width=bar_width, edgecolor='white', label='Traditional ML')\n",
        "\n",
        "# Add the metric names as x-axis labels\n",
        "plt.xlabel('Metrics', fontweight='bold')\n",
        "plt.xticks([r + bar_width/2 for r in range(len(metrics))], metrics)\n",
        "\n",
        "# Add a legend\n",
        "plt.legend()\n",
        "\n",
        "# Add a title and y-axis label\n",
        "plt.title('Comparison of Model Performance Metrics')\n",
        "plt.ylabel('Value')\n",
        "\n",
        "# Show the plot\n",
        "plt.show()\n"
      ],
      "metadata": {
        "id": "zyaYiIURBJWM",
        "outputId": "d5646fef-01ae-4251-e6b1-5fe32ef154df",
        "colab": {
          "base_uri": "https://localhost:8080/",
          "height": 502
        }
      },
      "execution_count": null,
      "outputs": [
        {
          "output_type": "display_data",
          "data": {
            "text/plain": [
              "<Figure size 1000x600 with 1 Axes>"
            ],
            "image/png": "[encoded data removed]"
          },
          "metadata": {}
        }
      ]
    }
  ],
  "metadata": {
    "colab": {
      "provenance": []
    },
    "kernelspec": {
      "display_name": "Python 3",
      "name": "python3"
    },
    "language_info": {
      "name": "python"
    },
    "widgets": {
      "application/vnd.jupyter.widget-state+json": {
        "44249c7f95c84c108d7a475b6890a832": {
          "model_module": "@jupyter-widgets/controls",
          "model_name": "HBoxModel",
          "model_module_version": "1.5.0",
          "state": {
            "_dom_classes": [],
            "_model_module": "@jupyter-widgets/controls",
            "_model_module_version": "1.5.0",
            "_model_name": "HBoxModel",
            "_view_count": null,
            "_view_module": "@jupyter-widgets/controls",
            "_view_module_version": "1.5.0",
            "_view_name": "HBoxView",
            "box_style": "",
            "children": [
              "IPY_MODEL_150e72b2cdd74e9fae1fcd69356bf12f",
              "IPY_MODEL_3619119ee2d34c8bbe0e9c7a5af1cc02",
              "IPY_MODEL_50e9ba8289854fde9f907afeaf4d12c4"
            ],
            "layout": "IPY_MODEL_d73c64c66bd14cb5b49b4ff25ed9d24c"
          }
        },
        "150e72b2cdd74e9fae1fcd69356bf12f": {
          "model_module": "@jupyter-widgets/controls",
          "model_name": "HTMLModel",
          "model_module_version": "1.5.0",
          "state": {
            "_dom_classes": [],
            "_model_module": "@jupyter-widgets/controls",
            "_model_module_version": "1.5.0",
            "_model_name": "HTMLModel",
            "_view_count": null,
            "_view_module": "@jupyter-widgets/controls",
            "_view_module_version": "1.5.0",
            "_view_name": "HTMLView",
            "description": "",
            "description_tooltip": null,
            "layout": "IPY_MODEL_876d676443d9419a80a8bcc748bf9a47",
            "placeholder": "​",
            "style": "IPY_MODEL_b86c173124784a7d8748109f447361c9",
            "value": "Optimization Progress: "
          }
        },
        "3619119ee2d34c8bbe0e9c7a5af1cc02": {
          "model_module": "@jupyter-widgets/controls",
          "model_name": "FloatProgressModel",
          "model_module_version": "1.5.0",
          "state": {
            "_dom_classes": [],
            "_model_module": "@jupyter-widgets/controls",
            "_model_module_version": "1.5.0",
            "_model_name": "FloatProgressModel",
            "_view_count": null,
            "_view_module": "@jupyter-widgets/controls",
            "_view_module_version": "1.5.0",
            "_view_name": "ProgressView",
            "bar_style": "",
            "description": "",
            "description_tooltip": null,
            "layout": "IPY_MODEL_4f7a368bc2044165a1e7d94fe957ab9b",
            "max": 300,
            "min": 0,
            "orientation": "horizontal",
            "style": "IPY_MODEL_d5846f5aad9d47dfb7a0050f7b427dff",
            "value": 300
          }
        },
        "50e9ba8289854fde9f907afeaf4d12c4": {
          "model_module": "@jupyter-widgets/controls",
          "model_name": "HTMLModel",
          "model_module_version": "1.5.0",
          "state": {
            "_dom_classes": [],
            "_model_module": "@jupyter-widgets/controls",
            "_model_module_version": "1.5.0",
            "_model_name": "HTMLModel",
            "_view_count": null,
            "_view_module": "@jupyter-widgets/controls",
            "_view_module_version": "1.5.0",
            "_view_name": "HTMLView",
            "description": "",
            "description_tooltip": null,
            "layout": "IPY_MODEL_327391760e4341a5af8fc3155ca08a8c",
            "placeholder": "​",
            "style": "IPY_MODEL_977be74ac9f64978af3990a013c3fa85",
            "value": " 301/? [1:37:57&lt;00:00, 22.27s/pipeline]"
          }
        },
        "d73c64c66bd14cb5b49b4ff25ed9d24c": {
          "model_module": "@jupyter-widgets/base",
          "model_name": "LayoutModel",
          "model_module_version": "1.2.0",
          "state": {
            "_model_module": "@jupyter-widgets/base",
            "_model_module_version": "1.2.0",
            "_model_name": "LayoutModel",
            "_view_count": null,
            "_view_module": "@jupyter-widgets/base",
            "_view_module_version": "1.2.0",
            "_view_name": "LayoutView",
            "align_content": null,
            "align_items": null,
            "align_self": null,
            "border": null,
            "bottom": null,
            "display": null,
            "flex": null,
            "flex_flow": null,
            "grid_area": null,
            "grid_auto_columns": null,
            "grid_auto_flow": null,
            "grid_auto_rows": null,
            "grid_column": null,
            "grid_gap": null,
            "grid_row": null,
            "grid_template_areas": null,
            "grid_template_columns": null,
            "grid_template_rows": null,
            "height": null,
            "justify_content": null,
            "justify_items": null,
            "left": null,
            "margin": null,
            "max_height": null,
            "max_width": null,
            "min_height": null,
            "min_width": null,
            "object_fit": null,
            "object_position": null,
            "order": null,
            "overflow": null,
            "overflow_x": null,
            "overflow_y": null,
            "padding": null,
            "right": null,
            "top": null,
            "visibility": "hidden",
            "width": null
          }
        },
        "876d676443d9419a80a8bcc748bf9a47": {
          "model_module": "@jupyter-widgets/base",
          "model_name": "LayoutModel",
          "model_module_version": "1.2.0",
          "state": {
            "_model_module": "@jupyter-widgets/base",
            "_model_module_version": "1.2.0",
            "_model_name": "LayoutModel",
            "_view_count": null,
            "_view_module": "@jupyter-widgets/base",
            "_view_module_version": "1.2.0",
            "_view_name": "LayoutView",
            "align_content": null,
            "align_items": null,
            "align_self": null,
            "border": null,
            "bottom": null,
            "display": null,
            "flex": null,
            "flex_flow": null,
            "grid_area": null,
            "grid_auto_columns": null,
            "grid_auto_flow": null,
            "grid_auto_rows": null,
            "grid_column": null,
            "grid_gap": null,
            "grid_row": null,
            "grid_template_areas": null,
            "grid_template_columns": null,
            "grid_template_rows": null,
            "height": null,
            "justify_content": null,
            "justify_items": null,
            "left": null,
            "margin": null,
            "max_height": null,
            "max_width": null,
            "min_height": null,
            "min_width": null,
            "object_fit": null,
            "object_position": null,
            "order": null,
            "overflow": null,
            "overflow_x": null,
            "overflow_y": null,
            "padding": null,
            "right": null,
            "top": null,
            "visibility": null,
            "width": null
          }
        },
        "b86c173124784a7d8748109f447361c9": {
          "model_module": "@jupyter-widgets/controls",
          "model_name": "DescriptionStyleModel",
          "model_module_version": "1.5.0",
          "state": {
            "_model_module": "@jupyter-widgets/controls",
            "_model_module_version": "1.5.0",
            "_model_name": "DescriptionStyleModel",
            "_view_count": null,
            "_view_module": "@jupyter-widgets/base",
            "_view_module_version": "1.2.0",
            "_view_name": "StyleView",
            "description_width": ""
          }
        },
        "4f7a368bc2044165a1e7d94fe957ab9b": {
          "model_module": "@jupyter-widgets/base",
          "model_name": "LayoutModel",
          "model_module_version": "1.2.0",
          "state": {
            "_model_module": "@jupyter-widgets/base",
            "_model_module_version": "1.2.0",
            "_model_name": "LayoutModel",
            "_view_count": null,
            "_view_module": "@jupyter-widgets/base",
            "_view_module_version": "1.2.0",
            "_view_name": "LayoutView",
            "align_content": null,
            "align_items": null,
            "align_self": null,
            "border": null,
            "bottom": null,
            "display": null,
            "flex": null,
            "flex_flow": null,
            "grid_area": null,
            "grid_auto_columns": null,
            "grid_auto_flow": null,
            "grid_auto_rows": null,
            "grid_column": null,
            "grid_gap": null,
            "grid_row": null,
            "grid_template_areas": null,
            "grid_template_columns": null,
            "grid_template_rows": null,
            "height": null,
            "justify_content": null,
            "justify_items": null,
            "left": null,
            "margin": null,
            "max_height": null,
            "max_width": null,
            "min_height": null,
            "min_width": null,
            "object_fit": null,
            "object_position": null,
            "order": null,
            "overflow": null,
            "overflow_x": null,
            "overflow_y": null,
            "padding": null,
            "right": null,
            "top": null,
            "visibility": null,
            "width": null
          }
        },
        "d5846f5aad9d47dfb7a0050f7b427dff": {
          "model_module": "@jupyter-widgets/controls",
          "model_name": "ProgressStyleModel",
          "model_module_version": "1.5.0",
          "state": {
            "_model_module": "@jupyter-widgets/controls",
            "_model_module_version": "1.5.0",
            "_model_name": "ProgressStyleModel",
            "_view_count": null,
            "_view_module": "@jupyter-widgets/base",
            "_view_module_version": "1.2.0",
            "_view_name": "StyleView",
            "bar_color": null,
            "description_width": ""
          }
        },
        "327391760e4341a5af8fc3155ca08a8c": {
          "model_module": "@jupyter-widgets/base",
          "model_name": "LayoutModel",
          "model_module_version": "1.2.0",
          "state": {
            "_model_module": "@jupyter-widgets/base",
            "_model_module_version": "1.2.0",
            "_model_name": "LayoutModel",
            "_view_count": null,
            "_view_module": "@jupyter-widgets/base",
            "_view_module_version": "1.2.0",
            "_view_name": "LayoutView",
            "align_content": null,
            "align_items": null,
            "align_self": null,
            "border": null,
            "bottom": null,
            "display": null,
            "flex": null,
            "flex_flow": null,
            "grid_area": null,
            "grid_auto_columns": null,
            "grid_auto_flow": null,
            "grid_auto_rows": null,
            "grid_column": null,
            "grid_gap": null,
            "grid_row": null,
            "grid_template_areas": null,
            "grid_template_columns": null,
            "grid_template_rows": null,
            "height": null,
            "justify_content": null,
            "justify_items": null,
            "left": null,
            "margin": null,
            "max_height": null,
            "max_width": null,
            "min_height": null,
            "min_width": null,
            "object_fit": null,
            "object_position": null,
            "order": null,
            "overflow": null,
            "overflow_x": null,
            "overflow_y": null,
            "padding": null,
            "right": null,
            "top": null,
            "visibility": null,
            "width": null
          }
        },
        "977be74ac9f64978af3990a013c3fa85": {
          "model_module": "@jupyter-widgets/controls",
          "model_name": "DescriptionStyleModel",
          "model_module_version": "1.5.0",
          "state": {
            "_model_module": "@jupyter-widgets/controls",
            "_model_module_version": "1.5.0",
            "_model_name": "DescriptionStyleModel",
            "_view_count": null,
            "_view_module": "@jupyter-widgets/base",
            "_view_module_version": "1.2.0",
            "_view_name": "StyleView",
            "description_width": ""
          }
        }
      }
    }
  },
  "nbformat": 4,
  "nbformat_minor": 0
}